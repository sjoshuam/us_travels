{
 "cells": [
  {
   "cell_type": "markdown",
   "id": "509f730c-5895-4333-90b0-bc61993a0591",
   "metadata": {
    "tags": []
   },
   "source": [
    "# Libraries"
   ]
  },
  {
   "cell_type": "code",
   "execution_count": 1,
   "id": "36fe7cd0-cec8-4eca-8153-b4aed0d525cc",
   "metadata": {},
   "outputs": [
    {
     "data": {
      "text/plain": [
       "<matplotlib.pyplot._IoffContext at 0x7f91c0720d60>"
      ]
     },
     "execution_count": 1,
     "metadata": {},
     "output_type": "execute_result"
    }
   ],
   "source": [
    "## general\n",
    "import matplotlib.pyplot as plt\n",
    "\n",
    "## settings\n",
    "plt.ioff()"
   ]
  },
  {
   "cell_type": "markdown",
   "id": "4229f129-ec96-412a-bd87-79c9a7b85e47",
   "metadata": {
    "tags": []
   },
   "source": [
    "# Basic Dashboard Architecture"
   ]
  },
  {
   "cell_type": "markdown",
   "id": "ec460a00-cee6-447d-bed3-3b65f6528174",
   "metadata": {
    "jp-MarkdownHeadingCollapsed": true,
    "tags": []
   },
   "source": [
    "Style: Define custom style elements for the visualization"
   ]
  },
  {
   "cell_type": "code",
   "execution_count": 2,
   "id": "d92e8aee-3274-4271-a0bd-cf8bf4abe5c9",
   "metadata": {},
   "outputs": [],
   "source": [
    "## computations\n",
    "def define_style():\n",
    "    pass\n",
    "## test\n",
    "def test_style():\n",
    "    pass"
   ]
  },
  {
   "cell_type": "markdown",
   "id": "1d9d6525-f39a-40c4-acaa-74875c2f83e4",
   "metadata": {},
   "source": [
    "Layout: Make the layout underlying the visualization"
   ]
  },
  {
   "cell_type": "code",
   "execution_count": 36,
   "id": "a76774ab-4079-4c4f-9d28-d1036f921c61",
   "metadata": {},
   "outputs": [
    {
     "name": "stdout",
     "output_type": "stream",
     "text": [
      "REMINDER: Layout Testing Manual Visual Comparison of Figure to dashboard_plan.pptx\n"
     ]
    }
   ],
   "source": [
    "## computations\n",
    "def process_layout():\n",
    "    \n",
    "    ## import needed objects\n",
    "    from matplotlib.pyplot import figure\n",
    "    from matplotlib.gridspec import GridSpec\n",
    "    from matplotlib.colors import hsv_to_rgb\n",
    "    \n",
    "    ## generate segmented plotting space\n",
    "    dashboard = figure(\n",
    "        figsize = (36, 24)#,\n",
    "        #constrained_layout = True\n",
    "        )\n",
    "    fig_grid  = GridSpec(3, 3,\n",
    "                         figure = dashboard,\n",
    "                         wspace = 0.01,\n",
    "                         hspace = 0.01\n",
    "                        )\n",
    "    \n",
    "    ## define each plot panel\n",
    "    axis_travels = dashboard.add_subplot(fig_grid[0:2, 1:3])\n",
    "\n",
    "    axis_explanation = dashboard.add_subplot(fig_grid[0, 0])\n",
    "    axis_routes      = dashboard.add_subplot(fig_grid[1, 0])\n",
    "    axis_progress    = dashboard.add_subplot(fig_grid[2, 0])\n",
    "\n",
    "    axis_opportunity = dashboard.add_subplot(fig_grid[2, 1])\n",
    "    axis_legend_plus = dashboard.add_subplot(fig_grid[2, 2])\n",
    "    \n",
    "    ## package results\n",
    "    all_results = {'travels': axis_travels,\n",
    "                   'explanation': axis_explanation,\n",
    "                   'routes': axis_routes,\n",
    "                   'progress': axis_progress,\n",
    "                   'opportunity': axis_opportunity,\n",
    "                   'legend_plus': axis_legend_plus}\n",
    "    for iter in all_results.keys():\n",
    "        all_results[iter].tick_params(\n",
    "            labelbottom = False,\n",
    "            labeltop = False,\n",
    "            labelleft = False,\n",
    "            labelright = False\n",
    "            )\n",
    "        all_results[iter].set_facecolor( hsv_to_rgb([7/12, 0.2, 0.5]) )\n",
    "    \n",
    "    ## return results\n",
    "    return None\n",
    "\n",
    "dashboard = process_layout()\n",
    "\n",
    "## display\n",
    "def display_layout():\n",
    "    plt.savefig(\"C_Output/us_travels.png\")\n",
    "    plt.savefig(\"C_Output/us_travels.pdf\")\n",
    "    plt.close()\n",
    "    \n",
    "display_layout()\n",
    "\n",
    "## test\n",
    "def test_layout():\n",
    "    print(\"REMINDER: Layout Testing Manual Visual Comparison of Figure to dashboard_plan.pptx\")\n",
    "\n",
    "test_layout()"
   ]
  },
  {
   "cell_type": "markdown",
   "id": "058c2725-7150-44bc-859d-c355e226e1bf",
   "metadata": {
    "tags": []
   },
   "source": [
    "# Non-Map Dashboard Panels"
   ]
  },
  {
   "cell_type": "markdown",
   "id": "5633ce11-5f9d-443e-b2f3-bb44373b6bbb",
   "metadata": {},
   "source": [
    "Explanation: Make explanation / introduction text panel"
   ]
  },
  {
   "cell_type": "code",
   "execution_count": 17,
   "id": "d0d0b907-191b-4659-824a-8f7ef4ddbd09",
   "metadata": {},
   "outputs": [],
   "source": [
    "## computations\n",
    "def process_explanation():\n",
    "    pass\n",
    "## display\n",
    "def display_explanation():\n",
    "    pass\n",
    "## test\n",
    "def test_explanation():\n",
    "    pass"
   ]
  },
  {
   "cell_type": "markdown",
   "id": "27216874-2daf-41ae-92a3-c6c791c5fe5a",
   "metadata": {},
   "source": [
    "Progress: Make horizontal bar charts depicting progress towards city and state travel goals"
   ]
  },
  {
   "cell_type": "code",
   "execution_count": null,
   "id": "23240690-eafe-4e18-86d0-3956ee027197",
   "metadata": {},
   "outputs": [],
   "source": [
    "## computations\n",
    "def process_progress():\n",
    "    pass\n",
    "## display\n",
    "def display_progress():\n",
    "    pass\n",
    "## test\n",
    "def test_progress():\n",
    "    pass"
   ]
  },
  {
   "cell_type": "markdown",
   "id": "db716ac5-4a26-4601-9a40-c9358a06c653",
   "metadata": {},
   "source": [
    "Legend Plus: Display table with legend and other information about planned routes"
   ]
  },
  {
   "cell_type": "code",
   "execution_count": null,
   "id": "41eae3fc-d62d-4444-afc7-4f7ddb051762",
   "metadata": {},
   "outputs": [],
   "source": [
    "## computations\n",
    "def process_legend_plus():\n",
    "    pass\n",
    "## display\n",
    "def display_legend_plus():\n",
    "    pass\n",
    "## test\n",
    "def test_legend_plus():\n",
    "    pass"
   ]
  },
  {
   "cell_type": "markdown",
   "id": "1e979030-355f-41f4-a93b-24521e540b0b",
   "metadata": {
    "jp-MarkdownHeadingCollapsed": true,
    "tags": []
   },
   "source": [
    "# Map Dashboard Panels"
   ]
  },
  {
   "cell_type": "markdown",
   "id": "bf489023-4274-445a-bcae-ad68536ce681",
   "metadata": {},
   "source": [
    "Map: Make the background map underlying the map panels\n",
    "+ Need to evaluate different options for AK, HI, PR insets"
   ]
  },
  {
   "cell_type": "code",
   "execution_count": null,
   "id": "0cfef5d4-a9f7-47d5-a198-6d07741f88ed",
   "metadata": {},
   "outputs": [],
   "source": [
    "## computations\n",
    "def process_map():\n",
    "    pass\n",
    "## display\n",
    "def display_map():\n",
    "    pass\n",
    "## test\n",
    "def test_map():\n",
    "    pass"
   ]
  },
  {
   "cell_type": "markdown",
   "id": "1f805f4a-9e2e-428f-8f39-d4b2f62e53ef",
   "metadata": {},
   "source": [
    "Routes: Map planned routes"
   ]
  },
  {
   "cell_type": "code",
   "execution_count": null,
   "id": "4c83c3e6-ab02-45a3-91aa-8816c2600109",
   "metadata": {},
   "outputs": [],
   "source": [
    "## computations\n",
    "def process_routes():\n",
    "    pass\n",
    "## display\n",
    "def display_routes():\n",
    "    pass\n",
    "## test\n",
    "def test_routes():\n",
    "    pass"
   ]
  },
  {
   "cell_type": "markdown",
   "id": "eaee6c82-6136-40e4-9ec2-a35001a1e2a2",
   "metadata": {},
   "source": [
    "Opportunity: Map geographic areas where visit will contribute to goals\n",
    "+ Kernel density heat map with plasma color scaling"
   ]
  },
  {
   "cell_type": "code",
   "execution_count": null,
   "id": "284c3b83-7230-4fd6-9c3e-7869bb3deee2",
   "metadata": {},
   "outputs": [],
   "source": [
    "## computations\n",
    "def process_opportunity():\n",
    "    pass\n",
    "## display\n",
    "def display_opportunity():\n",
    "    pass\n",
    "## test\n",
    "def test_opportunity():\n",
    "    pass"
   ]
  },
  {
   "cell_type": "markdown",
   "id": "bf0e82e2-56ce-4fdc-9504-af53e0cba1e6",
   "metadata": {},
   "source": [
    "Travels: Map past travels"
   ]
  },
  {
   "cell_type": "code",
   "execution_count": null,
   "id": "d8851908-45a9-41ab-bf5d-7b3375d9a652",
   "metadata": {},
   "outputs": [],
   "source": [
    "## computations\n",
    "def process_travels():\n",
    "    pass\n",
    "## display\n",
    "def display_travels():\n",
    "    pass\n",
    "## test\n",
    "def test_travels():\n",
    "    pass"
   ]
  }
 ],
 "metadata": {
  "kernelspec": {
   "display_name": "Python 3 (ipykernel)",
   "language": "python",
   "name": "python3"
  },
  "language_info": {
   "codemirror_mode": {
    "name": "ipython",
    "version": 3
   },
   "file_extension": ".py",
   "mimetype": "text/x-python",
   "name": "python",
   "nbconvert_exporter": "python",
   "pygments_lexer": "ipython3",
   "version": "3.8.12"
  }
 },
 "nbformat": 4,
 "nbformat_minor": 5
}
