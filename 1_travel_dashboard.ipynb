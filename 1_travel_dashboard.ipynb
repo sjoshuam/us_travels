{
 "cells": [
  {
   "cell_type": "markdown",
   "id": "f72b2208-edef-4ec4-bb99-50e5f346abd1",
   "metadata": {},
   "source": [
    "# Libraries and Settings"
   ]
  },
  {
   "cell_type": "markdown",
   "id": "4b56b23b-066f-4d9c-ab11-1da86ea73624",
   "metadata": {},
   "source": [
    "### Libraries"
   ]
  },
  {
   "cell_type": "code",
   "execution_count": null,
   "id": "a1e6564e-6e95-42e3-9027-cdf00d73f5b7",
   "metadata": {},
   "outputs": [],
   "source": []
  },
  {
   "cell_type": "markdown",
   "id": "dc7e1e46-0b7c-4e28-bfc3-891365071bda",
   "metadata": {},
   "source": [
    "### Settings"
   ]
  },
  {
   "cell_type": "code",
   "execution_count": null,
   "id": "088c1553-90b4-441f-b32b-d62b528a0260",
   "metadata": {},
   "outputs": [],
   "source": []
  },
  {
   "cell_type": "markdown",
   "id": "41c691b2-3e21-4695-8f73-9bbfb699a82c",
   "metadata": {},
   "source": [
    "# Import Data"
   ]
  },
  {
   "cell_type": "markdown",
   "id": "18cde8a4-10cf-4fc9-8538-d98288331c93",
   "metadata": {},
   "source": [
    "### Import Docx"
   ]
  },
  {
   "cell_type": "code",
   "execution_count": null,
   "id": "6e582266-5830-4601-9921-2798e0c4f112",
   "metadata": {},
   "outputs": [],
   "source": []
  },
  {
   "cell_type": "markdown",
   "id": "449ae6cf-0996-4865-b144-cb6223b4cafb",
   "metadata": {},
   "source": [
    "### Import Xlsx"
   ]
  },
  {
   "cell_type": "code",
   "execution_count": null,
   "id": "7dfe6db2-0d44-44c3-8942-7c979c3d8116",
   "metadata": {},
   "outputs": [],
   "source": []
  },
  {
   "cell_type": "markdown",
   "id": "e1b49666-a2eb-42a4-92a3-0db430daa0a1",
   "metadata": {},
   "source": [
    "### Import Kml"
   ]
  },
  {
   "cell_type": "code",
   "execution_count": null,
   "id": "3fa4d6cb-7f1e-474b-a2e3-b9c5a0a7512d",
   "metadata": {},
   "outputs": [],
   "source": []
  },
  {
   "cell_type": "markdown",
   "id": "128786b0-8e85-4249-bc10-93a180dacccd",
   "metadata": {},
   "source": [
    "### Enrich Data"
   ]
  },
  {
   "cell_type": "code",
   "execution_count": null,
   "id": "cafbcd41-a516-418d-8901-2e4f7d6da87d",
   "metadata": {},
   "outputs": [],
   "source": []
  },
  {
   "cell_type": "markdown",
   "id": "95bc8512-06d4-4932-957e-e1d169798fc8",
   "metadata": {},
   "source": [
    "# Dashboard Architecture"
   ]
  },
  {
   "cell_type": "markdown",
   "id": "9fe5a943-2545-4c25-bdf3-5536babb94cf",
   "metadata": {},
   "source": [
    "### Style"
   ]
  },
  {
   "cell_type": "code",
   "execution_count": null,
   "id": "ab5b8e04-78ec-4fc9-b072-88bfbc74b2ee",
   "metadata": {},
   "outputs": [],
   "source": []
  },
  {
   "cell_type": "markdown",
   "id": "3a52ca25-86b0-484c-8e88-2935b676a5f8",
   "metadata": {},
   "source": [
    "### Layout"
   ]
  },
  {
   "cell_type": "code",
   "execution_count": null,
   "id": "f5a12b9e-87b0-43a2-af5f-ce96d13a3485",
   "metadata": {},
   "outputs": [],
   "source": []
  },
  {
   "cell_type": "markdown",
   "id": "3e227ce6-3059-46ed-b08b-33b6ed6f2671",
   "metadata": {},
   "source": [
    "# Non-Map Panels"
   ]
  },
  {
   "cell_type": "markdown",
   "id": "cf5af9a0-6b9f-4f8c-98c0-230952204e62",
   "metadata": {},
   "source": [
    "### Progress Panel"
   ]
  },
  {
   "cell_type": "code",
   "execution_count": null,
   "id": "1d78adea-da98-4eac-83cf-b5792fefe95d",
   "metadata": {},
   "outputs": [],
   "source": []
  },
  {
   "cell_type": "markdown",
   "id": "c865d72c-1ea2-477b-b0a8-1390a3a1e5a5",
   "metadata": {},
   "source": [
    "### Table Panel"
   ]
  },
  {
   "cell_type": "code",
   "execution_count": null,
   "id": "df1e7e4f-fada-42bc-8cf0-b55d41853bc6",
   "metadata": {},
   "outputs": [],
   "source": []
  },
  {
   "cell_type": "markdown",
   "id": "2b2ac38f-0a2c-43cb-b14a-f0f5ee6d9925",
   "metadata": {},
   "source": [
    "# Map Line Panels"
   ]
  },
  {
   "cell_type": "markdown",
   "id": "c4b7cce3-8998-4507-946c-26e202baa8c3",
   "metadata": {},
   "source": [
    "### Route Panel"
   ]
  },
  {
   "cell_type": "code",
   "execution_count": null,
   "id": "d62c3bff-f9af-4749-b0f7-c4e77f24ad9b",
   "metadata": {},
   "outputs": [],
   "source": []
  },
  {
   "cell_type": "markdown",
   "id": "e30d5c60-43c8-4978-bedf-ca53346abd29",
   "metadata": {},
   "source": [
    "### Travel Panel"
   ]
  },
  {
   "cell_type": "code",
   "execution_count": null,
   "id": "dce80404-deb5-474a-ba45-13cc3bb0b1aa",
   "metadata": {},
   "outputs": [],
   "source": []
  },
  {
   "cell_type": "markdown",
   "id": "d2cb0c00-0565-49a9-9cd6-37ea2d4a0fdc",
   "metadata": {},
   "source": [
    "# Opportunity Panel"
   ]
  },
  {
   "cell_type": "code",
   "execution_count": null,
   "id": "0e5157a4-b012-480b-a436-5c210da9d011",
   "metadata": {},
   "outputs": [],
   "source": []
  },
  {
   "cell_type": "markdown",
   "id": "979a4d02-f9b3-4ac1-b6c2-db70e3f85941",
   "metadata": {},
   "source": [
    "# Text Elements"
   ]
  },
  {
   "cell_type": "markdown",
   "id": "1b404227-3e91-4214-b36e-30608e9fa5a7",
   "metadata": {},
   "source": [
    "### Intro Panel"
   ]
  },
  {
   "cell_type": "code",
   "execution_count": null,
   "id": "615f4c76-1faa-4a0f-9439-884ad0ddb260",
   "metadata": {},
   "outputs": [],
   "source": []
  },
  {
   "cell_type": "markdown",
   "id": "5ac2d686-7236-470e-8599-fa7370c7989e",
   "metadata": {},
   "source": [
    "### Titles"
   ]
  },
  {
   "cell_type": "code",
   "execution_count": null,
   "id": "8d9cde48-af47-4c94-88ae-2dbc1f0d5c6c",
   "metadata": {},
   "outputs": [],
   "source": []
  },
  {
   "cell_type": "markdown",
   "id": "baae3e4f-3c51-4ce6-9721-0ad96da91dc7",
   "metadata": {},
   "source": [
    "### Captions"
   ]
  },
  {
   "cell_type": "code",
   "execution_count": null,
   "id": "5736bb4c-f828-47c2-8b09-cbfab1cec8e8",
   "metadata": {},
   "outputs": [],
   "source": []
  },
  {
   "cell_type": "markdown",
   "id": "978273ca-b49d-44dc-b48c-2cda3c966f8e",
   "metadata": {},
   "source": [
    "# Testing"
   ]
  },
  {
   "cell_type": "markdown",
   "id": "589e4929-ed27-4aee-91d5-31752f3bcea8",
   "metadata": {},
   "source": [
    "### Test 0"
   ]
  },
  {
   "cell_type": "code",
   "execution_count": null,
   "id": "bb9877b0-f875-4009-8619-8328a438e552",
   "metadata": {},
   "outputs": [],
   "source": []
  },
  {
   "cell_type": "markdown",
   "id": "6d04d243-63a0-4577-be9e-4857fd5f314c",
   "metadata": {},
   "source": [
    "### Test 1"
   ]
  },
  {
   "cell_type": "code",
   "execution_count": null,
   "id": "dc8ad827-1905-4848-b269-a04a43d39703",
   "metadata": {},
   "outputs": [],
   "source": []
  },
  {
   "cell_type": "markdown",
   "id": "b1bb7909-3f8f-4bab-8f57-78a3e32c69c7",
   "metadata": {},
   "source": [
    "### Test 2"
   ]
  },
  {
   "cell_type": "code",
   "execution_count": null,
   "id": "323de61c-8441-43b1-a3fb-ffb6a970c3ad",
   "metadata": {},
   "outputs": [],
   "source": []
  },
  {
   "cell_type": "markdown",
   "id": "926d5f1b-818e-4a8e-be43-1f0f72ec9a91",
   "metadata": {},
   "source": [
    "### Test 3"
   ]
  },
  {
   "cell_type": "code",
   "execution_count": null,
   "id": "2a61db9d-4bd8-4aea-8829-285a0b72b3dd",
   "metadata": {},
   "outputs": [],
   "source": []
  },
  {
   "cell_type": "markdown",
   "id": "c8d1bcc3-476a-424e-840a-0a848754fc01",
   "metadata": {},
   "source": [
    "# Final Tasks"
   ]
  },
  {
   "cell_type": "markdown",
   "id": "f7578809-cb61-4b98-af8b-4f6d0ec3b6eb",
   "metadata": {},
   "source": [
    "### Render Visualizations"
   ]
  },
  {
   "cell_type": "code",
   "execution_count": null,
   "id": "ef8a59a8-4ffe-4b62-befd-e216514902f0",
   "metadata": {},
   "outputs": [],
   "source": []
  },
  {
   "cell_type": "markdown",
   "id": "87461cd8-d1c9-47c8-afe4-9060f04b54f6",
   "metadata": {},
   "source": [
    "### Misc"
   ]
  },
  {
   "cell_type": "code",
   "execution_count": null,
   "id": "0d07736b-32a9-49af-ac3a-8d01ad18b6be",
   "metadata": {},
   "outputs": [],
   "source": []
  }
 ],
 "metadata": {
  "kernelspec": {
   "display_name": "Python 3 (ipykernel)",
   "language": "python",
   "name": "python3"
  },
  "language_info": {
   "codemirror_mode": {
    "name": "ipython",
    "version": 3
   },
   "file_extension": ".py",
   "mimetype": "text/x-python",
   "name": "python",
   "nbconvert_exporter": "python",
   "pygments_lexer": "ipython3",
   "version": "3.9.7"
  }
 },
 "nbformat": 4,
 "nbformat_minor": 5
}
